{
 "cells": [
  {
   "cell_type": "markdown",
   "id": "34eadd5f-ed2d-4e55-b4c5-d337ec775382",
   "metadata": {},
   "source": [
    "Visit Codeup's Blog and record the urls for at least 5 distinct blog posts. For each post, you should scrape at least the post's title and content. (https://codeup.com/blog/)\n",
    "\n",
    "Encapsulate your work in a function named get_blog_articles that will return a list of dictionaries, with each dictionary representing one article. The shape of each dictionary should look like this:\n",
    "\n",
    "\n"
   ]
  },
  {
   "cell_type": "code",
   "execution_count": 1,
   "id": "97e9416c-6370-45c7-844b-3860a813e49d",
   "metadata": {},
   "outputs": [],
   "source": [
    "from requests import get\n",
    "from bs4 import BeautifulSoup\n",
    "import os\n",
    "import pandas as pd\n",
    "\n",
    "#import\n",
    "import warnings\n",
    "warnings.filterwarnings(\"ignore\")"
   ]
  },
  {
   "cell_type": "code",
   "execution_count": 12,
   "id": "81d3a1c8-532f-4fd0-b53d-ec2f7bfaab4f",
   "metadata": {},
   "outputs": [],
   "source": [
    "url = \"https://codeup.com/workshops/from-bootcamp-to-bootcamp-a-military-appreciation-panel/\""
   ]
  },
  {
   "cell_type": "code",
   "execution_count": 13,
   "id": "08ebb8b9-0b16-470f-8b5d-e46bddd5d09a",
   "metadata": {},
   "outputs": [],
   "source": [
    "headers = {'user-agent':'Innis Data Science Cohort'}"
   ]
  },
  {
   "cell_type": "code",
   "execution_count": 14,
   "id": "cf3b3215-4b73-41e4-9802-7decf5954710",
   "metadata": {},
   "outputs": [],
   "source": [
    "response = get(url, headers=headers)"
   ]
  },
  {
   "cell_type": "code",
   "execution_count": 21,
   "id": "55ebe66c-7610-4ae3-a576-f8539e1a2c6a",
   "metadata": {},
   "outputs": [
    {
     "name": "stdout",
     "output_type": "stream",
     "text": [
      "<!DOCTYPE html>\n",
      "<html lang=\"en-US\">\n",
      "<head>\n",
      "\t<meta charset=\"UTF-8\" />\n",
      "<meta http-equiv=\"X-UA-Compatible\" content=\"IE=edge\">\n",
      "\t<link rel=\"pingback\" href=\"https://codeup.com/xmlrpc.php\" />\n",
      "\n",
      "\t<script type=\"text/javascript\">\n",
      "\t\tdocument.documentElement.className = 'js';\n",
      "\t</script>\n",
      "\t\n",
      "\t<link rel=\"preconnect\" href=\"https://fonts.gstatic.com\" crossorigin /><script id=\"diviarea-loader\">window.DiviPopupData=window.DiviAreaConfig={\"zIndex\":1000000,\"animateSpeed\":400,\"triggerClassPrefix\":\"show-popup-\",\"idAttri\n"
     ]
    }
   ],
   "source": [
    "print(response.text[:500])"
   ]
  },
  {
   "cell_type": "code",
   "execution_count": 23,
   "id": "18c09836-01d2-4d98-89cc-37b8494cfb7a",
   "metadata": {},
   "outputs": [],
   "source": [
    "# Make a soup variable holding the response content\n",
    "soup = BeautifulSoup(response.text, 'html.parser')"
   ]
  },
  {
   "cell_type": "code",
   "execution_count": 31,
   "id": "c7f7afb9-9e46-47e6-9c06-c3df427feea8",
   "metadata": {},
   "outputs": [],
   "source": [
    "articles = soup.find('div')"
   ]
  },
  {
   "cell_type": "code",
   "execution_count": 32,
   "id": "b5565cde-3516-4b78-a741-bbdb0db7a307",
   "metadata": {},
   "outputs": [
    {
     "data": {
      "text/plain": [
       "<div class=\"divi-mobile-menu\">\n",
       "<div class=\"menu-wrap menuclosed\" id=\"dm_nav\">\n",
       "<div class=\"menu-wrap__inner\">\n",
       "<div class=\"scroll_section\">\n",
       "<nav class=\"menu-top\"></nav>\n",
       "<nav class=\"menu-side\">\n",
       "<span class=\"menu-name-behind\"></span>\n",
       "<ul class=\"nav\" id=\"dm-menu\"><li class=\"menu-item menu-item-type-post_type menu-item-object-page menu-item-home menu-item-16491\"><a href=\"https://codeup.com/\">Home</a></li>\n",
       "<li class=\"menu-item menu-item-type-custom menu-item-object-custom menu-item-18125\"><a href=\"https://codeup.com/program/cloud-adminsitration/\">Cloud Administration</a></li>\n",
       "<li class=\"menu-item menu-item-type-post_type menu-item-object-course menu-item-16497\"><a href=\"https://codeup.com/program/full-stack-web-development/\">Full Stack Web Development</a></li>\n",
       "<li class=\"menu-item menu-item-type-post_type menu-item-object-course menu-item-16496\"><a href=\"https://codeup.com/program/data-science/\">Data Science</a></li>\n",
       "<li class=\"menu-item menu-item-type-post_type menu-item-object-page menu-item-16498\"><a href=\"https://codeup.com/financial-aid/\">Financial Aid</a></li>\n",
       "<li class=\"menu-item menu-item-type-post_type menu-item-object-page menu-item-16679\"><a href=\"https://codeup.com/events/\">Events</a></li>\n",
       "<li class=\"menu-item menu-item-type-post_type menu-item-object-page menu-item-16501\"><a href=\"https://codeup.com/veterans/\">Military</a></li>\n",
       "<li class=\"menu-item menu-item-type-post_type menu-item-object-page menu-item-16502\"><a href=\"https://codeup.com/hire-tech-talent/\">Hire Tech Talent</a></li>\n",
       "<li class=\"menu-item menu-item-type-custom menu-item-object-custom menu-item-17178\"><a href=\"https://alumni.codeup.com/\">Alumni</a></li>\n",
       "<li class=\"menu-item menu-item-type-post_type menu-item-object-page menu-item-has-children menu-item-16503\"><a href=\"https://codeup.com/resources/\">Resources</a>\n",
       "<ul class=\"sub-menu\">\n",
       "<li class=\"menu-item menu-item-type-custom menu-item-object-custom menu-item-16895\"><a href=\"/my-story/\">Student Reviews</a></li>\n",
       "<li class=\"menu-item menu-item-type-post_type menu-item-object-page current_page_parent menu-item-16504\"><a href=\"https://codeup.com/blog/\">Blog</a></li>\n",
       "<li class=\"menu-item menu-item-type-post_type menu-item-object-page menu-item-16505\"><a href=\"https://codeup.com/frequently-asked-questions/\">Common Questions</a></li>\n",
       "<li class=\"menu-item menu-item-type-post_type menu-item-object-page menu-item-16685\"><a href=\"https://codeup.com/podcast/\">Hire Tech Podcast</a></li>\n",
       "</ul>\n",
       "</li>\n",
       "<li class=\"cta-nav menu-item menu-item-type-post_type menu-item-object-page menu-item-16492\"><a href=\"https://codeup.com/apply-now/\">Apply Now</a></li>\n",
       "</ul> </nav>\n",
       "</div>\n",
       "</div>\n",
       "</div>\n",
       "<button class=\"hamburger menu-button hamburger--arrowturn\" id=\"open-button\" type=\"button\">\n",
       "<span class=\"menu-text\"></span>\n",
       "<span class=\"hamburger-box\">\n",
       "<span class=\"hamburger-inner\"></span>\n",
       "</span>\n",
       "</button>\n",
       "<header id=\"dm-header\">\n",
       "<div class=\"dm-header-cont\">\n",
       "<div class=\"dm-branding\">\n",
       "<a href=\"https://codeup.com/\">\n",
       "<img alt=\"Codeup\" class=\"main-logo normal-logo\" id=\"dm-logo\" src=\"https://199lj33nqk3p88xz03dvn481-wpengine.netdna-ssl.com/wp-content/uploads/2021/08/CodeupFullColorLogo.png\" title=\"\">\n",
       "</img></a>\n",
       "</div>\n",
       "<div class=\"dm-search\">\n",
       "<div id=\"et_top_search_mob\">\n",
       "<span id=\"et_search_icon\"></span>\n",
       "<div class=\"dm-search-box\" style=\"opacity: 0;\">\n",
       "<form action=\"https://codeup.com/\" class=\"et-search-form\" method=\"get\" role=\"search\">\n",
       "<input class=\"et-search-field\" name=\"s\" placeholder=\"Search …\" title=\"Search for:\" type=\"search\" value=\"\"/> </form>\n",
       "<span class=\"close\"></span>\n",
       "</div>\n",
       "</div>\n",
       "</div>\n",
       "</div>\n",
       "</header>\n",
       "</div>"
      ]
     },
     "execution_count": 32,
     "metadata": {},
     "output_type": "execute_result"
    }
   ],
   "source": [
    "articles"
   ]
  },
  {
   "cell_type": "code",
   "execution_count": 29,
   "id": "d77cabaa-d33a-4fbd-a9ed-1ee617571d90",
   "metadata": {},
   "outputs": [],
   "source": [
    "articles = soup.select('h1.entry-title')"
   ]
  },
  {
   "cell_type": "code",
   "execution_count": 30,
   "id": "1c92f4a8-6622-4a8e-a789-7c9eff6e5c2e",
   "metadata": {},
   "outputs": [
    {
     "data": {
      "text/plain": [
       "[<h1 class=\"entry-title\">From Bootcamp to Bootcamp | A Military Appreciation Panel</h1>]"
      ]
     },
     "execution_count": 30,
     "metadata": {},
     "output_type": "execute_result"
    }
   ],
   "source": [
    "articles"
   ]
  },
  {
   "cell_type": "code",
   "execution_count": null,
   "id": "0210db2d-7566-48c4-a515-f180b583a400",
   "metadata": {},
   "outputs": [],
   "source": []
  }
 ],
 "metadata": {
  "kernelspec": {
   "display_name": "Python 3 (ipykernel)",
   "language": "python",
   "name": "python3"
  },
  "language_info": {
   "codemirror_mode": {
    "name": "ipython",
    "version": 3
   },
   "file_extension": ".py",
   "mimetype": "text/x-python",
   "name": "python",
   "nbconvert_exporter": "python",
   "pygments_lexer": "ipython3",
   "version": "3.9.7"
  }
 },
 "nbformat": 4,
 "nbformat_minor": 5
}
