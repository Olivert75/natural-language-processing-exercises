{
 "cells": [
  {
   "cell_type": "markdown",
   "id": "34eadd5f-ed2d-4e55-b4c5-d337ec775382",
   "metadata": {},
   "source": [
    "Visit Codeup's Blog and record the urls for at least 5 distinct blog posts. For each post, you should scrape at least the post's title and content. (https://codeup.com/blog/)\n",
    "\n",
    "Encapsulate your work in a function named get_blog_articles that will return a list of dictionaries, with each dictionary representing one article. The shape of each dictionary should look like this:\n",
    "\n",
    "\n"
   ]
  },
  {
   "cell_type": "code",
   "execution_count": 92,
   "id": "97e9416c-6370-45c7-844b-3860a813e49d",
   "metadata": {},
   "outputs": [],
   "source": [
    "from requests import get\n",
    "from bs4 import BeautifulSoup\n",
    "import os\n",
    "import pandas as pd\n",
    "pd.options\n",
    "#import\n",
    "import warnings\n",
    "warnings.filterwarnings(\"ignore\")\n",
    "pd.set_option('display.max_columns',None) \n",
    "pd.set_option('display.max_rows',None)"
   ]
  },
  {
   "cell_type": "code",
   "execution_count": 109,
   "id": "81d3a1c8-532f-4fd0-b53d-ec2f7bfaab4f",
   "metadata": {},
   "outputs": [],
   "source": [
    "url = \"https://codeup.com/workshops/from-bootcamp-to-bootcamp-a-military-appreciation-panel/\""
   ]
  },
  {
   "cell_type": "code",
   "execution_count": 110,
   "id": "08ebb8b9-0b16-470f-8b5d-e46bddd5d09a",
   "metadata": {},
   "outputs": [],
   "source": [
    "headers = {'user-agent':'Innis Data Science Cohort'}"
   ]
  },
  {
   "cell_type": "code",
   "execution_count": 111,
   "id": "cf3b3215-4b73-41e4-9802-7decf5954710",
   "metadata": {},
   "outputs": [],
   "source": [
    "response = get(url, headers=headers)"
   ]
  },
  {
   "cell_type": "code",
   "execution_count": 112,
   "id": "55ebe66c-7610-4ae3-a576-f8539e1a2c6a",
   "metadata": {},
   "outputs": [
    {
     "name": "stdout",
     "output_type": "stream",
     "text": [
      "<!DOCTYPE html>\n",
      "<html lang=\"en-US\">\n",
      "<head>\n",
      "\t<meta charset=\"UTF-8\" />\n",
      "<meta http-equiv=\"X-UA-Compatible\" content=\"IE=edge\">\n",
      "\t<link rel=\"pingback\" href=\"https://codeup.com/xmlrpc.php\" />\n",
      "\n",
      "\t<script type=\"text/javascript\">\n",
      "\t\tdocument.documentElement.className = 'js';\n",
      "\t</script>\n",
      "\t\n",
      "\t<link rel=\"preconnect\" href=\"https://fonts.gstatic.com\" crossorigin /><script id=\"diviarea-loader\">window.DiviPopupData=window.DiviAreaConfig={\"zIndex\":1000000,\"animateSpeed\":400,\"triggerClassPrefix\":\"show-popup-\",\"idAttri\n"
     ]
    }
   ],
   "source": [
    "print(response.text[:500])"
   ]
  },
  {
   "cell_type": "code",
   "execution_count": 113,
   "id": "18c09836-01d2-4d98-89cc-37b8494cfb7a",
   "metadata": {},
   "outputs": [],
   "source": [
    "# Make a soup variable holding the response content\n",
    "soup = BeautifulSoup(response.text, 'html.parser')"
   ]
  },
  {
   "cell_type": "code",
   "execution_count": 115,
   "id": "f73dbcbd-a808-49f8-bbda-44c9a8d28b3a",
   "metadata": {},
   "outputs": [
    {
     "ename": "AttributeError",
     "evalue": "'NoneType' object has no attribute 'text'",
     "output_type": "error",
     "traceback": [
      "\u001b[0;31m---------------------------------------------------------------------------\u001b[0m",
      "\u001b[0;31mAttributeError\u001b[0m                            Traceback (most recent call last)",
      "\u001b[0;32m/var/folders/l_/4qjmp_nd08s2tfrcx49v2b980000gn/T/ipykernel_3279/2877700957.py\u001b[0m in \u001b[0;36m<module>\u001b[0;34m\u001b[0m\n\u001b[0;32m----> 1\u001b[0;31m \u001b[0msoup\u001b[0m\u001b[0;34m.\u001b[0m\u001b[0mtime\u001b[0m\u001b[0;34m.\u001b[0m\u001b[0mtext\u001b[0m\u001b[0;34m\u001b[0m\u001b[0;34m\u001b[0m\u001b[0m\n\u001b[0m",
      "\u001b[0;31mAttributeError\u001b[0m: 'NoneType' object has no attribute 'text'"
     ]
    }
   ],
   "source": [
    "soup.time.text"
   ]
  },
  {
   "cell_type": "code",
   "execution_count": 62,
   "id": "c7f7afb9-9e46-47e6-9c06-c3df427feea8",
   "metadata": {},
   "outputs": [],
   "source": [
    "articles = soup.find('h1').text"
   ]
  },
  {
   "cell_type": "code",
   "execution_count": 63,
   "id": "af51136a-f599-48fd-8bb6-2fe79ced4812",
   "metadata": {},
   "outputs": [
    {
     "data": {
      "text/plain": [
       "'From Bootcamp to Bootcamp | A Military Appreciation Panel'"
      ]
     },
     "execution_count": 63,
     "metadata": {},
     "output_type": "execute_result"
    }
   ],
   "source": [
    "articles"
   ]
  },
  {
   "cell_type": "code",
   "execution_count": 86,
   "id": "b5565cde-3516-4b78-a741-bbdb0db7a307",
   "metadata": {},
   "outputs": [],
   "source": [
    "articles = soup.select('div.container')"
   ]
  },
  {
   "cell_type": "code",
   "execution_count": 87,
   "id": "0210db2d-7566-48c4-a515-f180b583a400",
   "metadata": {},
   "outputs": [],
   "source": [
    "article = articles[0]"
   ]
  },
  {
   "cell_type": "code",
   "execution_count": 88,
   "id": "8ee9665d-2bb1-4d8b-ba38-3a974d49ac94",
   "metadata": {},
   "outputs": [],
   "source": [
    "def parse_news_article(article):\n",
    "    output = {}\n",
    "    output['headline'] = article.find('h1').text\n",
    "    output['description'] = [p.text.strip() for p in article.find_all('p')]\n",
    "    return output"
   ]
  },
  {
   "cell_type": "code",
   "execution_count": 96,
   "id": "14ca1300-7c88-408d-a951-39e37cc507c0",
   "metadata": {},
   "outputs": [
    {
     "data": {
      "text/html": [
       "<div>\n",
       "<style scoped>\n",
       "    .dataframe tbody tr th:only-of-type {\n",
       "        vertical-align: middle;\n",
       "    }\n",
       "\n",
       "    .dataframe tbody tr th {\n",
       "        vertical-align: top;\n",
       "    }\n",
       "\n",
       "    .dataframe thead th {\n",
       "        text-align: right;\n",
       "    }\n",
       "</style>\n",
       "<table border=\"1\" class=\"dataframe\">\n",
       "  <thead>\n",
       "    <tr style=\"text-align: right;\">\n",
       "      <th></th>\n",
       "      <th>headline</th>\n",
       "      <th>description</th>\n",
       "    </tr>\n",
       "  </thead>\n",
       "  <tbody>\n",
       "    <tr>\n",
       "      <th>0</th>\n",
       "      <td>From Bootcamp to Bootcamp | A Military Appreci...</td>\n",
       "      <td>[Apr 27, 2022 | Alumni Stories, Dallas, Events...</td>\n",
       "    </tr>\n",
       "  </tbody>\n",
       "</table>\n",
       "</div>"
      ],
      "text/plain": [
       "                                            headline  \\\n",
       "0  From Bootcamp to Bootcamp | A Military Appreci...   \n",
       "\n",
       "                                         description  \n",
       "0  [Apr 27, 2022 | Alumni Stories, Dallas, Events...  "
      ]
     },
     "execution_count": 96,
     "metadata": {},
     "output_type": "execute_result"
    }
   ],
   "source": [
    "pd.DataFrame([parse_news_article(article) for article in articles])"
   ]
  },
  {
   "cell_type": "code",
   "execution_count": 105,
   "id": "fcfbb2db-08c4-4bba-989f-c1fd29b19422",
   "metadata": {},
   "outputs": [],
   "source": [
    "def get_article_parts (url,tag, cl):\n",
    "    headers = {'User-Agent': 'Codeup Data Science'}\n",
    "    response = get(url, headers=headers)\n",
    "    soup = BeautifulSoup(response.text)\n",
    "    article = soup.find(tag, class_=cl).get_text(strip = True)\n",
    "\n",
    "    return article"
   ]
  },
  {
   "cell_type": "code",
   "execution_count": 98,
   "id": "bebf604e-856f-45e1-b2af-23fbbf0e620e",
   "metadata": {},
   "outputs": [],
   "source": [
    "url = 'https://codeup.com/alumni-stories/from-speech-pathology-to-business-intelligence/'"
   ]
  },
  {
   "cell_type": "code",
   "execution_count": 100,
   "id": "27a138be-ac6d-4fd4-9269-926c5f79f929",
   "metadata": {},
   "outputs": [],
   "source": [
    "content = get_article_parts (url, 'div', 'container')"
   ]
  },
  {
   "cell_type": "code",
   "execution_count": 101,
   "id": "768bb906-45bb-4926-aa8a-dac7313022fc",
   "metadata": {},
   "outputs": [
    {
     "data": {
      "text/plain": [
       "'From Speech Pathology to Business IntelligenceOct 18, 2021|Alumni StoriesBy: Alicia GonzalezBefore Codeup, I was a home health Speech-Language Pathologist Assistant. I would go from home to home working with children anywhere from 1 year old to 18 years old. After 5 years of the profession, my body was getting tired driving around all the time and I felt overworked. The work was satisfying and I do miss working with the kiddos, but I just felt drained. I knew it was time to find a different field, so I started thinking about what else I was good at.Then one day as I was on my way to a patient’s home, I found a Codeup billboard near Splashtown that said “drive to a job you love” and I took it as a sign. I thought, “I want to drive to a job I love!” I had also heard nothing but good things about Codeup from a friend that went the Web Development route. She answered my questions and helped me through the whole process.At first, I was a little worried about tuition payment, but once I got started in theapplicationprocess, they held Zoom meetings where they would talk about all the funding options. They made it really easy and addressed all of my concerns. I realized I didn’t have to be scared about thefinancial aspect. I applied to a couple of grants and was able to get about a third of my tuition covered through the Train for Jobs SA grant from Workforce Solutions Alamo. That really helped me. I also received a few different scholarships from Codeup. The rest of it was a loan from Meritize.It was difficult leaving something I was comfortable and familiar with to start something new with no data science background, but I have always enjoyed all things tech. Once we got into the pre-assessment work and then the prework leading up to class, it showed me, “okay this IS what I wanted to be doing.” I really enjoyed it, thought it was fun, and realized this was for me.Overall, I really enjoyed the program.We were in Zoom the whole time because of the pandemic, but they made it slow, nice, and easy. The instructors are absolutely wonderful. Every single instructor helped me at one point or another, teaching things from ground zero and explaining everything really nicely in a way I can understand. One thing I value the most about the instructors is that, not only do they go over all the necessary skills needed in a data-related career, but they teach ushowto learn the skills as well. They didn’t just give us the work and tell us exactly how to do it. They provide instruction, hands-on exercises/projects, and answers to all questions, but most importantly, they walk us through how to work with the data and obtain the answers on our own. This is extremely valuable as I believe it is the key to success in this field.Now after graduating from Codeup, I’m a Business Intelligence Analyst atLiquid Web. I’ve been here almost three months now and I’m contributing to so many projects. I really feel like a true member of the team. I can figure things out for myself and my bosses are telling me how well I’m doing and how far I’ve come since working here. I didn’t have to ask for much help or training, because Codeup prepared me well and taught me how to learn when I run into skills they don’t teach. It’s been really good.I’m so glad I made this change. It was scary to take that leap of faith, but ultimately, I’m really glad I did. I love my job and I love what I’m doing.If anyone is looking to make a career change and struggling to find their best fit, I recommend looking into Codeup and going through their process. I’m extremely happy where I am right now and wouldn’t change a thing.Our ProgramsCloud AdministrationFull Stack Web DevelopmentData ScienceLatest Blog ArticlesFrom Bootcamp to Bootcamp | A Military Appreciation PanelOur Acquisition of the Rackspace Cloud Academy: One Year LaterLearn to Code: HTML & CSS on 4/30Learn to Code: Python Workshop on 4/23Coming Soon: Cloud Administration'"
      ]
     },
     "execution_count": 101,
     "metadata": {},
     "output_type": "execute_result"
    }
   ],
   "source": [
    "content"
   ]
  },
  {
   "cell_type": "code",
   "execution_count": 104,
   "id": "de781706-d4ec-4dec-bb0b-d993bdb3277d",
   "metadata": {},
   "outputs": [
    {
     "data": {
      "text/plain": [
       "'From Speech Pathology to Business Intelligence'"
      ]
     },
     "execution_count": 104,
     "metadata": {},
     "output_type": "execute_result"
    }
   ],
   "source": [
    "title = get_article_parts (url, 'h1', 'entry-title')\n",
    "title"
   ]
  },
  {
   "cell_type": "code",
   "execution_count": 125,
   "id": "afe5e4bd-a5a5-4a53-b20d-0f998e061f5f",
   "metadata": {},
   "outputs": [],
   "source": [
    "def get_codeup_blog (url):\n",
    "    '''\n",
    "    '''\n",
    "    #set the headers\n",
    "    headers = {'User-Agent': 'Codeup Data Science'}\n",
    "    \n",
    "    #Get rhe http response object from the server\n",
    "    response = get(url, headers=headers)\n",
    "    \n",
    "    soup = BeautifulSoup(response.text)\n",
    "    \n",
    "    # get the content\n",
    "    content = soup.find('div', class_='entry-content').get_text(strip = True)\n",
    "    \n",
    "    #get the title\n",
    "    title = soup.find('h1', class_='entry-title').text\n",
    "\n",
    "    #get the date\n",
    "    #published_date = soup.time.text\n",
    "    \n",
    "    #create a dictionary\n",
    "    dic = {\n",
    "        'title': title,\n",
    "        'content': content,\n",
    "        #'published_date': published_date\n",
    "    }\n",
    "    return dic"
   ]
  },
  {
   "cell_type": "code",
   "execution_count": 126,
   "id": "ea9fa67d-ba77-4ef4-b973-c9b94f1a9264",
   "metadata": {},
   "outputs": [],
   "source": [
    "def get_glob_articles (urls):\n",
    "    #create a list of dictionaries\n",
    "    list_dic = [get_codeup_blog(url) for url in urls]\n",
    "    \n",
    "    return pd.DataFrame(list_dic)"
   ]
  },
  {
   "cell_type": "code",
   "execution_count": 128,
   "id": "68ba38fc-4c0e-4f6b-ba95-9b93b5cebb0a",
   "metadata": {},
   "outputs": [],
   "source": [
    "web_lst = ['https://codeup.com/alumni-stories/from-speech-pathology-to-business-intelligence/',\n",
    "          'https://codeup.com/workshops/from-bootcamp-to-bootcamp-a-military-appreciation-panel/',\n",
    "          'https://codeup.com/alumni-stories/how-i-went-from-codeup-to-business-owner/',\n",
    "          'https://codeup.com/dallas-newsletter/fight-covid-19-data-challenge/',\n",
    "           'https://codeup.com/web-development/codeup-alumni-make-water/']"
   ]
  },
  {
   "cell_type": "code",
   "execution_count": null,
   "id": "dda541e5-82f6-43d3-82aa-01feb56eb56e",
   "metadata": {},
   "outputs": [],
   "source": []
  },
  {
   "cell_type": "code",
   "execution_count": 129,
   "id": "ed674ae2-6703-4a5d-a376-f1313586a1ff",
   "metadata": {},
   "outputs": [
    {
     "data": {
      "text/html": [
       "<div>\n",
       "<style scoped>\n",
       "    .dataframe tbody tr th:only-of-type {\n",
       "        vertical-align: middle;\n",
       "    }\n",
       "\n",
       "    .dataframe tbody tr th {\n",
       "        vertical-align: top;\n",
       "    }\n",
       "\n",
       "    .dataframe thead th {\n",
       "        text-align: right;\n",
       "    }\n",
       "</style>\n",
       "<table border=\"1\" class=\"dataframe\">\n",
       "  <thead>\n",
       "    <tr style=\"text-align: right;\">\n",
       "      <th></th>\n",
       "      <th>title</th>\n",
       "      <th>content</th>\n",
       "    </tr>\n",
       "  </thead>\n",
       "  <tbody>\n",
       "    <tr>\n",
       "      <th>0</th>\n",
       "      <td>From Speech Pathology to Business Intelligence</td>\n",
       "      <td>By: Alicia GonzalezBefore Codeup, I was a home...</td>\n",
       "    </tr>\n",
       "    <tr>\n",
       "      <th>1</th>\n",
       "      <td>From Bootcamp to Bootcamp | A Military Appreci...</td>\n",
       "      <td>In honor of Military Appreciation Month, join ...</td>\n",
       "    </tr>\n",
       "    <tr>\n",
       "      <th>2</th>\n",
       "      <td>How I Went From Codeup to Business Owner</td>\n",
       "      <td>Out of college, I was a bit of a mess.That’s w...</td>\n",
       "    </tr>\n",
       "    <tr>\n",
       "      <th>3</th>\n",
       "      <td>How Codeup Alumni Helped Dallas Youth Fight CO...</td>\n",
       "      <td>Three of our Web Development alumni from Dalla...</td>\n",
       "    </tr>\n",
       "    <tr>\n",
       "      <th>4</th>\n",
       "      <td>How Codeup Alumni are Helping to Make Water</td>\n",
       "      <td>Imagine having a kit mailed to you with all th...</td>\n",
       "    </tr>\n",
       "  </tbody>\n",
       "</table>\n",
       "</div>"
      ],
      "text/plain": [
       "                                               title  \\\n",
       "0     From Speech Pathology to Business Intelligence   \n",
       "1  From Bootcamp to Bootcamp | A Military Appreci...   \n",
       "2           How I Went From Codeup to Business Owner   \n",
       "3  How Codeup Alumni Helped Dallas Youth Fight CO...   \n",
       "4        How Codeup Alumni are Helping to Make Water   \n",
       "\n",
       "                                             content  \n",
       "0  By: Alicia GonzalezBefore Codeup, I was a home...  \n",
       "1  In honor of Military Appreciation Month, join ...  \n",
       "2  Out of college, I was a bit of a mess.That’s w...  \n",
       "3  Three of our Web Development alumni from Dalla...  \n",
       "4  Imagine having a kit mailed to you with all th...  "
      ]
     },
     "execution_count": 129,
     "metadata": {},
     "output_type": "execute_result"
    }
   ],
   "source": [
    "get_glob_articles(web_lst)"
   ]
  },
  {
   "cell_type": "code",
   "execution_count": null,
   "id": "19b18252-51cc-431f-b9c7-ae0034e1f4b9",
   "metadata": {},
   "outputs": [],
   "source": []
  }
 ],
 "metadata": {
  "kernelspec": {
   "display_name": "Python 3 (ipykernel)",
   "language": "python",
   "name": "python3"
  },
  "language_info": {
   "codemirror_mode": {
    "name": "ipython",
    "version": 3
   },
   "file_extension": ".py",
   "mimetype": "text/x-python",
   "name": "python",
   "nbconvert_exporter": "python",
   "pygments_lexer": "ipython3",
   "version": "3.9.7"
  }
 },
 "nbformat": 4,
 "nbformat_minor": 5
}
