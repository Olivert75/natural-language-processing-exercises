{
 "cells": [
  {
   "cell_type": "markdown",
   "id": "34eadd5f-ed2d-4e55-b4c5-d337ec775382",
   "metadata": {},
   "source": [
    "Visit Codeup's Blog and record the urls for at least 5 distinct blog posts. For each post, you should scrape at least the post's title and content. (https://codeup.com/blog/)\n",
    "\n",
    "Encapsulate your work in a function named get_blog_articles that will return a list of dictionaries, with each dictionary representing one article. The shape of each dictionary should look like this:\n",
    "\n",
    "\n"
   ]
  },
  {
   "cell_type": "code",
   "execution_count": 92,
   "id": "97e9416c-6370-45c7-844b-3860a813e49d",
   "metadata": {},
   "outputs": [],
   "source": [
    "from requests import get\n",
    "from bs4 import BeautifulSoup\n",
    "import os\n",
    "import pandas as pd\n",
    "pd.options\n",
    "#import\n",
    "import warnings\n",
    "warnings.filterwarnings(\"ignore\")\n",
    "pd.set_option('display.max_columns',None) \n",
    "pd.set_option('display.max_rows',None)"
   ]
  },
  {
   "cell_type": "code",
   "execution_count": 135,
   "id": "81d3a1c8-532f-4fd0-b53d-ec2f7bfaab4f",
   "metadata": {},
   "outputs": [],
   "source": [
    "url = \"https://codeup.com/workshops/from-bootcamp-to-bootcamp-a-military-appreciation-panel/\""
   ]
  },
  {
   "cell_type": "code",
   "execution_count": 136,
   "id": "08ebb8b9-0b16-470f-8b5d-e46bddd5d09a",
   "metadata": {},
   "outputs": [],
   "source": [
    "headers = {'user-agent':'Innis Data Science Cohort'}"
   ]
  },
  {
   "cell_type": "code",
   "execution_count": 137,
   "id": "cf3b3215-4b73-41e4-9802-7decf5954710",
   "metadata": {},
   "outputs": [],
   "source": [
    "response = get(url, headers=headers)"
   ]
  },
  {
   "cell_type": "code",
   "execution_count": 138,
   "id": "55ebe66c-7610-4ae3-a576-f8539e1a2c6a",
   "metadata": {},
   "outputs": [
    {
     "name": "stdout",
     "output_type": "stream",
     "text": [
      "<!DOCTYPE html>\n",
      "<html lang=\"en-US\">\n",
      "<head>\n",
      "\t<meta charset=\"UTF-8\" />\n",
      "<meta http-equiv=\"X-UA-Compatible\" content=\"IE=edge\">\n",
      "\t<link rel=\"pingback\" href=\"https://codeup.com/xmlrpc.php\" />\n",
      "\n",
      "\t<script type=\"text/javascript\">\n",
      "\t\tdocument.documentElement.className = 'js';\n",
      "\t</script>\n",
      "\t\n",
      "\t<link rel=\"preconnect\" href=\"https://fonts.gstatic.com\" crossorigin /><script id=\"diviarea-loader\">window.DiviPopupData=window.DiviAreaConfig={\"zIndex\":1000000,\"animateSpeed\":400,\"triggerClassPrefix\":\"show-popup-\",\"idAttri\n"
     ]
    }
   ],
   "source": [
    "print(response.text[:500])"
   ]
  },
  {
   "cell_type": "code",
   "execution_count": 139,
   "id": "18c09836-01d2-4d98-89cc-37b8494cfb7a",
   "metadata": {},
   "outputs": [],
   "source": [
    "# Make a soup variable holding the response content\n",
    "soup = BeautifulSoup(response.text, 'html.parser')"
   ]
  },
  {
   "cell_type": "code",
   "execution_count": 145,
   "id": "f73dbcbd-a808-49f8-bbda-44c9a8d28b3a",
   "metadata": {},
   "outputs": [
    {
     "data": {
      "text/plain": [
       "'Apr 27, 2022'"
      ]
     },
     "execution_count": 145,
     "metadata": {},
     "output_type": "execute_result"
    }
   ],
   "source": [
    "soup.find('span',class_='published').text"
   ]
  },
  {
   "cell_type": "code",
   "execution_count": 62,
   "id": "c7f7afb9-9e46-47e6-9c06-c3df427feea8",
   "metadata": {},
   "outputs": [],
   "source": [
    "articles = soup.find('h1').text"
   ]
  },
  {
   "cell_type": "code",
   "execution_count": 63,
   "id": "af51136a-f599-48fd-8bb6-2fe79ced4812",
   "metadata": {},
   "outputs": [
    {
     "data": {
      "text/plain": [
       "'From Bootcamp to Bootcamp | A Military Appreciation Panel'"
      ]
     },
     "execution_count": 63,
     "metadata": {},
     "output_type": "execute_result"
    }
   ],
   "source": [
    "articles"
   ]
  },
  {
   "cell_type": "code",
   "execution_count": 86,
   "id": "b5565cde-3516-4b78-a741-bbdb0db7a307",
   "metadata": {},
   "outputs": [],
   "source": [
    "articles = soup.select('div.container')"
   ]
  },
  {
   "cell_type": "code",
   "execution_count": 87,
   "id": "0210db2d-7566-48c4-a515-f180b583a400",
   "metadata": {},
   "outputs": [],
   "source": [
    "article = articles[0]"
   ]
  },
  {
   "cell_type": "code",
   "execution_count": 88,
   "id": "8ee9665d-2bb1-4d8b-ba38-3a974d49ac94",
   "metadata": {},
   "outputs": [],
   "source": [
    "def parse_news_article(article):\n",
    "    output = {}\n",
    "    output['headline'] = article.find('h1').text\n",
    "    output['description'] = [p.text.strip() for p in article.find_all('p')]\n",
    "    return output"
   ]
  },
  {
   "cell_type": "code",
   "execution_count": 96,
   "id": "14ca1300-7c88-408d-a951-39e37cc507c0",
   "metadata": {},
   "outputs": [
    {
     "data": {
      "text/html": [
       "<div>\n",
       "<style scoped>\n",
       "    .dataframe tbody tr th:only-of-type {\n",
       "        vertical-align: middle;\n",
       "    }\n",
       "\n",
       "    .dataframe tbody tr th {\n",
       "        vertical-align: top;\n",
       "    }\n",
       "\n",
       "    .dataframe thead th {\n",
       "        text-align: right;\n",
       "    }\n",
       "</style>\n",
       "<table border=\"1\" class=\"dataframe\">\n",
       "  <thead>\n",
       "    <tr style=\"text-align: right;\">\n",
       "      <th></th>\n",
       "      <th>headline</th>\n",
       "      <th>description</th>\n",
       "    </tr>\n",
       "  </thead>\n",
       "  <tbody>\n",
       "    <tr>\n",
       "      <th>0</th>\n",
       "      <td>From Bootcamp to Bootcamp | A Military Appreci...</td>\n",
       "      <td>[Apr 27, 2022 | Alumni Stories, Dallas, Events...</td>\n",
       "    </tr>\n",
       "  </tbody>\n",
       "</table>\n",
       "</div>"
      ],
      "text/plain": [
       "                                            headline  \\\n",
       "0  From Bootcamp to Bootcamp | A Military Appreci...   \n",
       "\n",
       "                                         description  \n",
       "0  [Apr 27, 2022 | Alumni Stories, Dallas, Events...  "
      ]
     },
     "execution_count": 96,
     "metadata": {},
     "output_type": "execute_result"
    }
   ],
   "source": [
    "pd.DataFrame([parse_news_article(article) for article in articles])"
   ]
  },
  {
   "cell_type": "code",
   "execution_count": 105,
   "id": "fcfbb2db-08c4-4bba-989f-c1fd29b19422",
   "metadata": {},
   "outputs": [],
   "source": [
    "def get_article_parts (url,tag, cl):\n",
    "    headers = {'User-Agent': 'Codeup Data Science'}\n",
    "    response = get(url, headers=headers)\n",
    "    soup = BeautifulSoup(response.text)\n",
    "    article = soup.find(tag, class_=cl).get_text(strip = True)\n",
    "\n",
    "    return article"
   ]
  },
  {
   "cell_type": "code",
   "execution_count": 98,
   "id": "bebf604e-856f-45e1-b2af-23fbbf0e620e",
   "metadata": {},
   "outputs": [],
   "source": [
    "url = 'https://codeup.com/alumni-stories/from-speech-pathology-to-business-intelligence/'"
   ]
  },
  {
   "cell_type": "code",
   "execution_count": 100,
   "id": "27a138be-ac6d-4fd4-9269-926c5f79f929",
   "metadata": {},
   "outputs": [],
   "source": [
    "content = get_article_parts (url, 'div', 'container')"
   ]
  },
  {
   "cell_type": "code",
   "execution_count": 101,
   "id": "768bb906-45bb-4926-aa8a-dac7313022fc",
   "metadata": {},
   "outputs": [
    {
     "data": {
      "text/plain": [
       "'From Speech Pathology to Business IntelligenceOct 18, 2021|Alumni StoriesBy: Alicia GonzalezBefore Codeup, I was a home health Speech-Language Pathologist Assistant. I would go from home to home working with children anywhere from 1 year old to 18 years old. After 5 years of the profession, my body was getting tired driving around all the time and I felt overworked. The work was satisfying and I do miss working with the kiddos, but I just felt drained. I knew it was time to find a different field, so I started thinking about what else I was good at.Then one day as I was on my way to a patient’s home, I found a Codeup billboard near Splashtown that said “drive to a job you love” and I took it as a sign. I thought, “I want to drive to a job I love!” I had also heard nothing but good things about Codeup from a friend that went the Web Development route. She answered my questions and helped me through the whole process.At first, I was a little worried about tuition payment, but once I got started in theapplicationprocess, they held Zoom meetings where they would talk about all the funding options. They made it really easy and addressed all of my concerns. I realized I didn’t have to be scared about thefinancial aspect. I applied to a couple of grants and was able to get about a third of my tuition covered through the Train for Jobs SA grant from Workforce Solutions Alamo. That really helped me. I also received a few different scholarships from Codeup. The rest of it was a loan from Meritize.It was difficult leaving something I was comfortable and familiar with to start something new with no data science background, but I have always enjoyed all things tech. Once we got into the pre-assessment work and then the prework leading up to class, it showed me, “okay this IS what I wanted to be doing.” I really enjoyed it, thought it was fun, and realized this was for me.Overall, I really enjoyed the program.We were in Zoom the whole time because of the pandemic, but they made it slow, nice, and easy. The instructors are absolutely wonderful. Every single instructor helped me at one point or another, teaching things from ground zero and explaining everything really nicely in a way I can understand. One thing I value the most about the instructors is that, not only do they go over all the necessary skills needed in a data-related career, but they teach ushowto learn the skills as well. They didn’t just give us the work and tell us exactly how to do it. They provide instruction, hands-on exercises/projects, and answers to all questions, but most importantly, they walk us through how to work with the data and obtain the answers on our own. This is extremely valuable as I believe it is the key to success in this field.Now after graduating from Codeup, I’m a Business Intelligence Analyst atLiquid Web. I’ve been here almost three months now and I’m contributing to so many projects. I really feel like a true member of the team. I can figure things out for myself and my bosses are telling me how well I’m doing and how far I’ve come since working here. I didn’t have to ask for much help or training, because Codeup prepared me well and taught me how to learn when I run into skills they don’t teach. It’s been really good.I’m so glad I made this change. It was scary to take that leap of faith, but ultimately, I’m really glad I did. I love my job and I love what I’m doing.If anyone is looking to make a career change and struggling to find their best fit, I recommend looking into Codeup and going through their process. I’m extremely happy where I am right now and wouldn’t change a thing.Our ProgramsCloud AdministrationFull Stack Web DevelopmentData ScienceLatest Blog ArticlesFrom Bootcamp to Bootcamp | A Military Appreciation PanelOur Acquisition of the Rackspace Cloud Academy: One Year LaterLearn to Code: HTML & CSS on 4/30Learn to Code: Python Workshop on 4/23Coming Soon: Cloud Administration'"
      ]
     },
     "execution_count": 101,
     "metadata": {},
     "output_type": "execute_result"
    }
   ],
   "source": [
    "content"
   ]
  },
  {
   "cell_type": "code",
   "execution_count": 104,
   "id": "de781706-d4ec-4dec-bb0b-d993bdb3277d",
   "metadata": {},
   "outputs": [
    {
     "data": {
      "text/plain": [
       "'From Speech Pathology to Business Intelligence'"
      ]
     },
     "execution_count": 104,
     "metadata": {},
     "output_type": "execute_result"
    }
   ],
   "source": [
    "title = get_article_parts (url, 'h1', 'entry-title')\n",
    "title"
   ]
  },
  {
   "cell_type": "code",
   "execution_count": 146,
   "id": "afe5e4bd-a5a5-4a53-b20d-0f998e061f5f",
   "metadata": {},
   "outputs": [],
   "source": [
    "def get_codeup_blog (url):\n",
    "    '''\n",
    "    '''\n",
    "    #set the headers\n",
    "    headers = {'User-Agent': 'Codeup Data Science'}\n",
    "    \n",
    "    #Get rhe http response object from the server\n",
    "    response = get(url, headers=headers)\n",
    "    \n",
    "    soup = BeautifulSoup(response.text)\n",
    "    \n",
    "    # get the content\n",
    "    content = soup.find('div', class_='entry-content').get_text(strip = True)\n",
    "    \n",
    "    #get the title\n",
    "    title = soup.find('h1', class_='entry-title').text\n",
    "\n",
    "    #get the date\n",
    "    published_date = soup.find('span', class_='published').text\n",
    "    \n",
    "    #create a dictionary\n",
    "    dic = {\n",
    "        'title': title,\n",
    "        'content': content,\n",
    "        'published_date': published_date\n",
    "    }\n",
    "    return dic"
   ]
  },
  {
   "cell_type": "code",
   "execution_count": 150,
   "id": "ea9fa67d-ba77-4ef4-b973-c9b94f1a9264",
   "metadata": {},
   "outputs": [],
   "source": [
    "def get_glob_articles (urls):\n",
    "    #create a list of dictionaries\n",
    "    list_dic = [get_codeup_blog(url) for url in urls]\n",
    "    \n",
    "    return pd.DataFrame(list_dic).style.set_properties(**{'text-align': 'left'})"
   ]
  },
  {
   "cell_type": "code",
   "execution_count": 151,
   "id": "68ba38fc-4c0e-4f6b-ba95-9b93b5cebb0a",
   "metadata": {},
   "outputs": [],
   "source": [
    "web_lst = ['https://codeup.com/alumni-stories/from-speech-pathology-to-business-intelligence/',\n",
    "          'https://codeup.com/workshops/from-bootcamp-to-bootcamp-a-military-appreciation-panel/',\n",
    "          'https://codeup.com/alumni-stories/how-i-went-from-codeup-to-business-owner/',\n",
    "          'https://codeup.com/dallas-newsletter/fight-covid-19-data-challenge/',\n",
    "           'https://codeup.com/web-development/codeup-alumni-make-water/']"
   ]
  },
  {
   "cell_type": "code",
   "execution_count": 152,
   "id": "ed674ae2-6703-4a5d-a376-f1313586a1ff",
   "metadata": {},
   "outputs": [
    {
     "data": {
      "text/html": [
       "<style type=\"text/css\">\n",
       "#T_d1ba7_row0_col0, #T_d1ba7_row0_col1, #T_d1ba7_row0_col2, #T_d1ba7_row1_col0, #T_d1ba7_row1_col1, #T_d1ba7_row1_col2, #T_d1ba7_row2_col0, #T_d1ba7_row2_col1, #T_d1ba7_row2_col2, #T_d1ba7_row3_col0, #T_d1ba7_row3_col1, #T_d1ba7_row3_col2, #T_d1ba7_row4_col0, #T_d1ba7_row4_col1, #T_d1ba7_row4_col2 {\n",
       "  text-align: left;\n",
       "}\n",
       "</style>\n",
       "<table id=\"T_d1ba7_\">\n",
       "  <thead>\n",
       "    <tr>\n",
       "      <th class=\"blank level0\" >&nbsp;</th>\n",
       "      <th class=\"col_heading level0 col0\" >title</th>\n",
       "      <th class=\"col_heading level0 col1\" >content</th>\n",
       "      <th class=\"col_heading level0 col2\" >published_date</th>\n",
       "    </tr>\n",
       "  </thead>\n",
       "  <tbody>\n",
       "    <tr>\n",
       "      <th id=\"T_d1ba7_level0_row0\" class=\"row_heading level0 row0\" >0</th>\n",
       "      <td id=\"T_d1ba7_row0_col0\" class=\"data row0 col0\" >From Speech Pathology to Business Intelligence</td>\n",
       "      <td id=\"T_d1ba7_row0_col1\" class=\"data row0 col1\" >By: Alicia GonzalezBefore Codeup, I was a home health Speech-Language Pathologist Assistant. I would go from home to home working with children anywhere from 1 year old to 18 years old. After 5 years of the profession, my body was getting tired driving around all the time and I felt overworked. The work was satisfying and I do miss working with the kiddos, but I just felt drained. I knew it was time to find a different field, so I started thinking about what else I was good at.Then one day as I was on my way to a patient’s home, I found a Codeup billboard near Splashtown that said “drive to a job you love” and I took it as a sign. I thought, “I want to drive to a job I love!” I had also heard nothing but good things about Codeup from a friend that went the Web Development route. She answered my questions and helped me through the whole process.At first, I was a little worried about tuition payment, but once I got started in theapplicationprocess, they held Zoom meetings where they would talk about all the funding options. They made it really easy and addressed all of my concerns. I realized I didn’t have to be scared about thefinancial aspect. I applied to a couple of grants and was able to get about a third of my tuition covered through the Train for Jobs SA grant from Workforce Solutions Alamo. That really helped me. I also received a few different scholarships from Codeup. The rest of it was a loan from Meritize.It was difficult leaving something I was comfortable and familiar with to start something new with no data science background, but I have always enjoyed all things tech. Once we got into the pre-assessment work and then the prework leading up to class, it showed me, “okay this IS what I wanted to be doing.” I really enjoyed it, thought it was fun, and realized this was for me.Overall, I really enjoyed the program.We were in Zoom the whole time because of the pandemic, but they made it slow, nice, and easy. The instructors are absolutely wonderful. Every single instructor helped me at one point or another, teaching things from ground zero and explaining everything really nicely in a way I can understand. One thing I value the most about the instructors is that, not only do they go over all the necessary skills needed in a data-related career, but they teach ushowto learn the skills as well. They didn’t just give us the work and tell us exactly how to do it. They provide instruction, hands-on exercises/projects, and answers to all questions, but most importantly, they walk us through how to work with the data and obtain the answers on our own. This is extremely valuable as I believe it is the key to success in this field.Now after graduating from Codeup, I’m a Business Intelligence Analyst atLiquid Web. I’ve been here almost three months now and I’m contributing to so many projects. I really feel like a true member of the team. I can figure things out for myself and my bosses are telling me how well I’m doing and how far I’ve come since working here. I didn’t have to ask for much help or training, because Codeup prepared me well and taught me how to learn when I run into skills they don’t teach. It’s been really good.I’m so glad I made this change. It was scary to take that leap of faith, but ultimately, I’m really glad I did. I love my job and I love what I’m doing.If anyone is looking to make a career change and struggling to find their best fit, I recommend looking into Codeup and going through their process. I’m extremely happy where I am right now and wouldn’t change a thing.</td>\n",
       "      <td id=\"T_d1ba7_row0_col2\" class=\"data row0 col2\" >Oct 18, 2021</td>\n",
       "    </tr>\n",
       "    <tr>\n",
       "      <th id=\"T_d1ba7_level0_row1\" class=\"row_heading level0 row1\" >1</th>\n",
       "      <td id=\"T_d1ba7_row1_col0\" class=\"data row1 col0\" >From Bootcamp to Bootcamp | A Military Appreciation Panel</td>\n",
       "      <td id=\"T_d1ba7_row1_col1\" class=\"data row1 col1\" >In honor of Military Appreciation Month, join us for a discussion with Codeup Alumni who are also Military Veterans! We will chat about their experiences attending a coding bootcamp, and how their military training set them up for success here at Codeup. Grab your virtual seat now so you can be sent the exclusive Livestream link on the 11th!Thank you to our panelists for participating:Christopher AguirreTaryn McKenzieDesiree McElroyAnd thanks to Codeup’s Trey Iapachino who is also an Air Force Veteran!</td>\n",
       "      <td id=\"T_d1ba7_row1_col2\" class=\"data row1 col2\" >Apr 27, 2022</td>\n",
       "    </tr>\n",
       "    <tr>\n",
       "      <th id=\"T_d1ba7_level0_row2\" class=\"row_heading level0 row2\" >2</th>\n",
       "      <td id=\"T_d1ba7_row2_col0\" class=\"data row2 col0\" >How I Went From Codeup to Business Owner</td>\n",
       "      <td id=\"T_d1ba7_row2_col1\" class=\"data row2 col1\" >Out of college, I was a bit of a mess.That’s what I would have told you, anyway. On the surface, I was put together. I graduated magna cum laude with a 3.8 in Molecular Biology, had professor recommendations under my belt, and a clear goal to apply for a PhD program in Clinical Psychology.But as I sat in the dry Colorado sunshine on graduation day, this thought popped into my head: “I never have to go to school EVER again…” As soon as I crossed the finish line, it nauseated me to think about going back to school right away.But I felt lost. If I wasn’t going to graduate school, I didn’t have a plan anymore.What the hell was I supposed to do?Being naive and idealistic, I considered applying to the Peace Corps. My brother-in-law (bless his heart) sat me down and explained that the beginning of my career was critical. He also mentioned that it takes about a year to save up for a year of not working; otherwise, I’d have to keep depending on my parents who had already supported me through college.Being bratty and unaware of how the world works, I rolled my eyes at his perfectly logical explanations, convinced he was obsessed with making money. I sat on my high horse, lauding myself for being willing to make a sacrifice when I literally had nothing to my name.In reality, I felt lost. I didn’t recognize it at the time, but going to the Peace Corps was an excuse to run away from uncertainty. I didn’t know what I wanted to do in life, and I also had these lofty dreams of maybe starting my own business one day or being a part of a movement that mattered. Sensing these hopes in me, my brother-in-law mentionedhe had seen billboards around town for a coding bootcamp named Codeup. If I didn’t know what I wanted to “do”, then maybe I couldbuild my skillsetinstead.My interest was piqued.Coding seemed cool. I pictured savvy devs in cute plaid shirts and man buns, and being able to live the #vanlife and become a digital nomad. (are you noticing my habit of being idealistic yet?). Buoyed by this vision, I jumped all-in. I told myself I’d go to everyhappy hour, mixer, network like crazy, and bondwith every single one of my classmates.It worked. I landed a job in software development at a cloud security company in Dallas. After spending a year in the Engineering department of my company, I had finally come to face the reality that I wasn’t very good at coding. More importantly, I was pretty apathetic about mastering it. If I continued down my career path as a developer, I’d have to keep learning and keeping up with the latest trends in development, and nothing in me felt excited about that.I was given an opportunity to join the Marketing department as a Digital Marketing Manager. At first, I felt guilty for even considering it. Did my parents spend their hard-earned money putting me through Codeup, only for me to give it all up because I was bored? It seemed like a sin straight out of the immigrant rulebook. My dream to love what I do was “selfish” and having a sense of purpose was a “luxury”. Eventually though, I braced myself and took the leap.It was one of the best decisions I ever made. I finally felt like I was “with my people”, a collection of brainy empaths with crazy ideas. I learned so much about marketing in general, which allowed me to start up my side business as a coach. I launched my first group coaching course in 2020, and I’m writing a book to release at the start of 2022. I’m living my dream every day, learning and growing with exciting things at every turn. I’ve connected with other coaches, and built a supportive web of connections across the globe. I can’t believe how far I’ve come.But I couldn’t have done it without first building my skills. In a world that penalizes people for not fitting into a neat career category, it can sometimes get confusing for people who have lots of interests. But I realized I didn’t get here bytryingto become a business owner or learn about marketing. I was just, A, open to the opportunity, and B, perfectly positioned to do so.Going through Codeup was a huge incentivefor the Marketing manager to hire me, despite the fact I had ZERO marketing experience. They figured, hey, if she can learn full-stack in four months, she can definitely learn the lay of the land in marketing. My exposure to marketing gave me the necessary courage and skills to start getting my content out there. I was writing blogs, publishing podcasts, and releasing YouTube videos.With a clear mission and vision in mind, everything fell into place. It’s not that I suddenly have everything figured out; instead, I’ve gotten used to the uncertainty.I no longer worry about what my career is going to be. I know it’s not going to be “one thing”. I won’t be a coder, a writer, or a coach.I’ll be a coder-writer-coach-podcaster-marketer-salesperson-youtuber-novelist. Why choose, when I know I can make money from my unique mix of skills?Society often suggests we have to choose. But I refuse to believe that anymore.If you’re reading this and you’re uncertain about where you’re headed, it’sokaynot to have all the answers. Take things day by day.Build your skillset. Follow what you love. Aim for mastery.And don’t rule out the 9-to-5 doing something you may not love. Your job doesn’t have to be your passion. A steady paycheck does wonders for anxiety and allows you to be creative and innovate in your side-hustles.Practice gratitude. Realize that, yes, things could be worse, but they can also be better. Be patient with learning to wobble on the thin line stretched between “This is enough” and “I wonder what would happen if…”Go down the rabbit holes. Be curious. And realize that life is about embracing the possibilities. Who knows where it can lead?Joyce Ling is a content creator and coach that helps dreamers fulfill their purpose by doing the work that matters most. She’s also the host ofThe Abundance Podcast, a writer in top publications on Medium.com, and an aspiring 9-to-5 escapee. Get her best productivity + self-discovery content bysigning up for her cozy weekly newsletter, STOKED.</td>\n",
       "      <td id=\"T_d1ba7_row2_col2\" class=\"data row2 col2\" >Apr 30, 2021</td>\n",
       "    </tr>\n",
       "    <tr>\n",
       "      <th id=\"T_d1ba7_level0_row3\" class=\"row_heading level0 row3\" >3</th>\n",
       "      <td id=\"T_d1ba7_row3_col0\" class=\"data row3 col0\" >How Codeup Alumni Helped Dallas Youth Fight COVID-19</td>\n",
       "      <td id=\"T_d1ba7_row3_col1\" class=\"data row3 col1\" >Three of our Web Development alumni from Dallas,Rex Sutton,Ry Sutton, andRonnel Palencia, worked with the Dallas Office of Innovation to build and deploy a full-stack application for its COVID-19 Data Challenge! To check out this beautiful project,click here. In July 2020, Rex, Ry, and Ron were part of the first class to graduate from Codeup’s Dallas campus. This application, to fight COVID-19, went live in mid September 2020, and the challenge ended in October 2020.The COVID-19 Data Challenge is a competition for students in grades 6 through 12 to use their analytical and/or coding skills using real COVID data sets. The students attempt to deliver real insights into how COVID is impacting local youth in Dallas.“This partnership between the City of Dallas, Dallas County, DISD and other organizations invites students to join the international role that data is playing to fight back against the novel coronavirus Covid-19. By participating in the challenge, students will be able to better understand the virus themselves and share their learnings with their peers to build awareness.” – Office of Innovation, Dallas, TXUsing web development skills to get kids involved in data? What an admirable project by our alumni! There are many Data Challenges, Datathons, and Hackathons happening all the time, with many different themes, for many different audiences! If you’re interested in competing in one, Google it to see what interests you! If you’d one day like to create the platform for one, apply for our Web Development programhere!</td>\n",
       "      <td id=\"T_d1ba7_row3_col2\" class=\"data row3 col2\" >Oct 16, 2020</td>\n",
       "    </tr>\n",
       "    <tr>\n",
       "      <th id=\"T_d1ba7_level0_row4\" class=\"row_heading level0 row4\" >4</th>\n",
       "      <td id=\"T_d1ba7_row4_col0\" class=\"data row4 col0\" >How Codeup Alumni are Helping to Make Water</td>\n",
       "      <td id=\"T_d1ba7_row4_col1\" class=\"data row4 col1\" >Imagine having a kit mailed to you with all the necessary components to make contaminated water clean. Cool, huh? Four of our alumni are helping to make that possible by partnering with the non-profitElequato design a website for their Make Water program. With this project, these Codeup alumni have the potential to make a global impact: Jacqueline Murralles, James Murralles, Ted Zamarron, and Carlos Teller.How Elequa is Making a DifferenceThe Make Water program inspires, educates, and equips people that want to make a tangible difference in the world. Elequa puts together DIY kits with the tools to purify water and delivers them to people that need them, locally and abroad. This project is also given to students in the San Antonio area, who in turn are challenged to research, tweak, and further develop the kits to make them better and more accessible. These problem-solving challenges engage students in the STEM field, inspiring teamwork and collaboration while making a difference that they can be proud of: helping to provide clean water.How Codeup Alumni are Making a DifferenceCurrently, the Make Water program lacks a platform to house and share the data gathered by students to improve the kits, while also challenging other community members for further development. They needed help with the gamification of these processes to make participation more engaging. That’s where Codeup alumniJacqueline Murralles,James Murralles,Ted Zamarron, andCarlos Tellercame in. They are helping Elequa to build an open-source application for the Make Water program that turns community participation into a game where users can level up as they contribute and collaborate through an array of real-world challenges inwater research, coding, hardware innovation, and creative storytelling.Did we mention that they are working on this project as volunteers, as Codeup alumni often do? Codeup students are always looking for ways to challenge themselves, sharpen their skills, and make a difference, and that continues after graduation. To see more of the projects our students have worked on (and what you can do, too, with Codeup), check out thesecapstone presentations.</td>\n",
       "      <td id=\"T_d1ba7_row4_col2\" class=\"data row4 col2\" >Jul 27, 2020</td>\n",
       "    </tr>\n",
       "  </tbody>\n",
       "</table>\n"
      ],
      "text/plain": [
       "<pandas.io.formats.style.Styler at 0x7fe3903a8190>"
      ]
     },
     "execution_count": 152,
     "metadata": {},
     "output_type": "execute_result"
    }
   ],
   "source": [
    "get_glob_articles(web_lst)"
   ]
  },
  {
   "cell_type": "markdown",
   "id": "34e22b6d-b099-4155-9783-3153158e0ac7",
   "metadata": {},
   "source": [
    "News Articles\n",
    "\n",
    "We will now be scraping text data from inshorts, a website that provides a brief overview of many different topics.\n",
    "\n",
    "Write a function that scrapes the news articles for the following topics:\n",
    "\n",
    "Business\n",
    "\n",
    "Sports\n",
    "\n",
    "Technology\n",
    "\n",
    "Entertainment\n",
    "\n",
    "The end product of this should be a function named get_news_articles that returns a list of dictionaries, where each dictionary has this shape:\n",
    "\n",
    "Hints:\n",
    "\n",
    "Start by inspecting the website in your browser. Figure out which elements will be useful.\n",
    "\n",
    "Start by creating a function that handles a single article and produces a dictionary like the one above.\n",
    "\n",
    "Next create a function that will find all the articles on a single page and call the function you created in the last step for every article on the page.\n",
    "\n",
    "Now create a function that will use the previous two functions to scrape the articles from all the pages that you need, and do any additional processing that needs to be done.\n"
   ]
  },
  {
   "cell_type": "code",
   "execution_count": null,
   "id": "4ee99c71-3305-4109-9c8c-79c5244b4bb2",
   "metadata": {},
   "outputs": [],
   "source": []
  }
 ],
 "metadata": {
  "kernelspec": {
   "display_name": "Python 3 (ipykernel)",
   "language": "python",
   "name": "python3"
  },
  "language_info": {
   "codemirror_mode": {
    "name": "ipython",
    "version": 3
   },
   "file_extension": ".py",
   "mimetype": "text/x-python",
   "name": "python",
   "nbconvert_exporter": "python",
   "pygments_lexer": "ipython3",
   "version": "3.9.7"
  }
 },
 "nbformat": 4,
 "nbformat_minor": 5
}
