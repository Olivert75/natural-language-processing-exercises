{
 "cells": [
  {
   "cell_type": "code",
   "execution_count": 4,
   "id": "a76c042f-1bae-46ce-ad46-910dad992f32",
   "metadata": {},
   "outputs": [],
   "source": [
    "import re\n",
    "import pandas as pd"
   ]
  },
  {
   "cell_type": "markdown",
   "id": "34ee7e4f-5716-406d-b268-87c1a2374bd7",
   "metadata": {},
   "source": [
    "Write a function named is_vowel. It should accept a string as input and use a regular expression to determine if the passed string is a vowel. While not explicity mentioned in the lesson, you can treat the result of re.search as a boolean value that indicates whether or not the regular expression matches the given string."
   ]
  },
  {
   "cell_type": "code",
   "execution_count": 4,
   "id": "aef3e452-425a-4341-a39f-d65b93924eff",
   "metadata": {},
   "outputs": [],
   "source": [
    "def is_vowel(subject):\n",
    "    '''\n",
    "    takes the first letter of a string and returns whether it is a vowel or not\n",
    "    '''\n",
    "    regexp = r'^[AEIOUaeiou]'\n",
    "    if re.findall(regexp,subject):\n",
    "        print('indeed a vowel')\n",
    "    else:\n",
    "        print('that\\'s a consonant')"
   ]
  },
  {
   "cell_type": "code",
   "execution_count": 5,
   "id": "6bb71267-9d76-4c34-a370-d621380be737",
   "metadata": {},
   "outputs": [
    {
     "name": "stdout",
     "output_type": "stream",
     "text": [
      "indeed a vowel\n"
     ]
    }
   ],
   "source": [
    "is_vowel('a')"
   ]
  },
  {
   "cell_type": "code",
   "execution_count": 8,
   "id": "7f7da7d9-a194-47ac-8830-e882d0912714",
   "metadata": {},
   "outputs": [
    {
     "name": "stdout",
     "output_type": "stream",
     "text": [
      "that's a consonant\n"
     ]
    }
   ],
   "source": [
    "is_vowel('b')"
   ]
  },
  {
   "cell_type": "markdown",
   "id": "7d880b47-a9f0-4cf4-ae32-7e5d57b9e5eb",
   "metadata": {},
   "source": [
    " Write a function named is_validusername that accepts a string as input. A valid username starts with a lowercase letter, and only consists of lowercase letters, numbers, or the character. It should also be no longer than 32 characters. The function should return either True or False depending on whether the passed string is a valid username."
   ]
  },
  {
   "cell_type": "code",
   "execution_count": 11,
   "id": "464cb430-7bcc-479a-a3be-fecce246c706",
   "metadata": {},
   "outputs": [],
   "source": [
    "def is_valid_username(subject):\n",
    "    regexp = r'^[a-z]\\w{1,31}$'\n",
    "    if re.findall(regexp,subject):\n",
    "        return True\n",
    "    else:\n",
    "        return False"
   ]
  },
  {
   "cell_type": "code",
   "execution_count": 12,
   "id": "2401cd16-8060-498a-99d6-e0aaa5e1bcbe",
   "metadata": {},
   "outputs": [
    {
     "name": "stdout",
     "output_type": "stream",
     "text": [
      "False\n",
      "True\n",
      "False\n",
      "False\n"
     ]
    }
   ],
   "source": [
    "print(is_valid_username('aaaaaaaaaaaaaaaaaaaaaaaaaaaaaaaaa'))\n",
    "print(is_valid_username('codeup'))\n",
    "print(is_valid_username('Codeup'))\n",
    "print(is_valid_username('1codeup'))"
   ]
  },
  {
   "cell_type": "markdown",
   "id": "363e20b6-0665-4e51-ab8e-acea658d7efb",
   "metadata": {},
   "source": [
    "Write a regular expression to capture phone numbers. It should match all of the following:"
   ]
  },
  {
   "cell_type": "code",
   "execution_count": 14,
   "id": "48c698c3-24d5-4175-b8a6-69536e27a958",
   "metadata": {},
   "outputs": [],
   "source": [
    "df = pd.DataFrame()\n",
    "df['number'] = [\n",
    "    '(210) 867 5309',\n",
    "    '+1 210.867.5309',\n",
    "    '867-5309',\n",
    "    '210-867-5309',\n",
    "    '2108675309',\n",
    "]"
   ]
  },
  {
   "cell_type": "code",
   "execution_count": 29,
   "id": "d32a4a59-32d3-4295-8836-fb8f275da5e7",
   "metadata": {},
   "outputs": [],
   "source": [
    "phone_regex = re.compile(\n",
    "'''\n",
    "^\n",
    "(?P<country_code>\\+\\d+)?\n",
    "\\D*?\n",
    "(?P<area_code>\\d{3})?\n",
    "\\D*?\n",
    "(?P<exchange_code>\\d{3})\n",
    "\\D*?\n",
    "(?P<line_number>\\d{4})\n",
    "\\D*\n",
    "$\n",
    "''', re.VERBOSE)"
   ]
  },
  {
   "cell_type": "code",
   "execution_count": 30,
   "id": "fce7b251-c670-491f-ba53-d77b1ce4c5b1",
   "metadata": {},
   "outputs": [
    {
     "data": {
      "text/html": [
       "<div>\n",
       "<style scoped>\n",
       "    .dataframe tbody tr th:only-of-type {\n",
       "        vertical-align: middle;\n",
       "    }\n",
       "\n",
       "    .dataframe tbody tr th {\n",
       "        vertical-align: top;\n",
       "    }\n",
       "\n",
       "    .dataframe thead th {\n",
       "        text-align: right;\n",
       "    }\n",
       "</style>\n",
       "<table border=\"1\" class=\"dataframe\">\n",
       "  <thead>\n",
       "    <tr style=\"text-align: right;\">\n",
       "      <th></th>\n",
       "      <th>country_code</th>\n",
       "      <th>area_code</th>\n",
       "      <th>exchange_code</th>\n",
       "      <th>line_number</th>\n",
       "    </tr>\n",
       "  </thead>\n",
       "  <tbody>\n",
       "    <tr>\n",
       "      <th>0</th>\n",
       "      <td>NaN</td>\n",
       "      <td>210</td>\n",
       "      <td>867</td>\n",
       "      <td>5309</td>\n",
       "    </tr>\n",
       "    <tr>\n",
       "      <th>1</th>\n",
       "      <td>+1</td>\n",
       "      <td>210</td>\n",
       "      <td>867</td>\n",
       "      <td>5309</td>\n",
       "    </tr>\n",
       "    <tr>\n",
       "      <th>2</th>\n",
       "      <td>NaN</td>\n",
       "      <td>NaN</td>\n",
       "      <td>867</td>\n",
       "      <td>5309</td>\n",
       "    </tr>\n",
       "    <tr>\n",
       "      <th>3</th>\n",
       "      <td>NaN</td>\n",
       "      <td>210</td>\n",
       "      <td>867</td>\n",
       "      <td>5309</td>\n",
       "    </tr>\n",
       "    <tr>\n",
       "      <th>4</th>\n",
       "      <td>NaN</td>\n",
       "      <td>210</td>\n",
       "      <td>867</td>\n",
       "      <td>5309</td>\n",
       "    </tr>\n",
       "  </tbody>\n",
       "</table>\n",
       "</div>"
      ],
      "text/plain": [
       "  country_code area_code exchange_code line_number\n",
       "0          NaN       210           867        5309\n",
       "1           +1       210           867        5309\n",
       "2          NaN       NaN           867        5309\n",
       "3          NaN       210           867        5309\n",
       "4          NaN       210           867        5309"
      ]
     },
     "execution_count": 30,
     "metadata": {},
     "output_type": "execute_result"
    }
   ],
   "source": [
    "df.number.str.extract(phone_regex)"
   ]
  },
  {
   "cell_type": "code",
   "execution_count": 18,
   "id": "f54753d1-41a7-4b41-8fb5-31a18352d55e",
   "metadata": {},
   "outputs": [
    {
     "data": {
      "text/html": [
       "<div>\n",
       "<style scoped>\n",
       "    .dataframe tbody tr th:only-of-type {\n",
       "        vertical-align: middle;\n",
       "    }\n",
       "\n",
       "    .dataframe tbody tr th {\n",
       "        vertical-align: top;\n",
       "    }\n",
       "\n",
       "    .dataframe thead th {\n",
       "        text-align: right;\n",
       "    }\n",
       "</style>\n",
       "<table border=\"1\" class=\"dataframe\">\n",
       "  <thead>\n",
       "    <tr style=\"text-align: right;\">\n",
       "      <th></th>\n",
       "      <th>number</th>\n",
       "      <th>country_code</th>\n",
       "      <th>area_code</th>\n",
       "      <th>exchange_code</th>\n",
       "      <th>line_number</th>\n",
       "    </tr>\n",
       "  </thead>\n",
       "  <tbody>\n",
       "    <tr>\n",
       "      <th>0</th>\n",
       "      <td>(210) 867 5309</td>\n",
       "      <td>NaN</td>\n",
       "      <td>210</td>\n",
       "      <td>867</td>\n",
       "      <td>5309</td>\n",
       "    </tr>\n",
       "    <tr>\n",
       "      <th>1</th>\n",
       "      <td>+1 210.867.5309</td>\n",
       "      <td>+1</td>\n",
       "      <td>210</td>\n",
       "      <td>867</td>\n",
       "      <td>5309</td>\n",
       "    </tr>\n",
       "    <tr>\n",
       "      <th>2</th>\n",
       "      <td>867-5309</td>\n",
       "      <td>NaN</td>\n",
       "      <td>NaN</td>\n",
       "      <td>867</td>\n",
       "      <td>5309</td>\n",
       "    </tr>\n",
       "    <tr>\n",
       "      <th>3</th>\n",
       "      <td>210-867-5309</td>\n",
       "      <td>NaN</td>\n",
       "      <td>210</td>\n",
       "      <td>867</td>\n",
       "      <td>5309</td>\n",
       "    </tr>\n",
       "    <tr>\n",
       "      <th>4</th>\n",
       "      <td>2108675309</td>\n",
       "      <td>NaN</td>\n",
       "      <td>210</td>\n",
       "      <td>867</td>\n",
       "      <td>5309</td>\n",
       "    </tr>\n",
       "  </tbody>\n",
       "</table>\n",
       "</div>"
      ],
      "text/plain": [
       "            number country_code area_code exchange_code line_number\n",
       "0   (210) 867 5309          NaN       210           867        5309\n",
       "1  +1 210.867.5309           +1       210           867        5309\n",
       "2         867-5309          NaN       NaN           867        5309\n",
       "3     210-867-5309          NaN       210           867        5309\n",
       "4       2108675309          NaN       210           867        5309"
      ]
     },
     "execution_count": 18,
     "metadata": {},
     "output_type": "execute_result"
    }
   ],
   "source": [
    "#optional random character in front\n",
    "#3 digits (optional)\n",
    "#random symbol\n",
    "#3 more numbers\n",
    "#random symbol\n",
    "#4 numbers, nothing after\n",
    "pd.concat([df, df.number.str.extract(phone_regex)], axis=1)"
   ]
  },
  {
   "cell_type": "markdown",
   "id": "5870d807-b92d-466b-b84d-34afea1d1d13",
   "metadata": {},
   "source": [
    "Use regular expressions to convert the dates below to the standardized year-month-day format."
   ]
  },
  {
   "cell_type": "code",
   "execution_count": 19,
   "id": "daae1297-53af-4866-8f48-7e2e0758c81b",
   "metadata": {},
   "outputs": [],
   "source": [
    "dates = pd.Series(['02/04/19','02/05/19','02/06/19','02/07/19','02/08/19','02/09/19','02/10/19'])"
   ]
  },
  {
   "cell_type": "code",
   "execution_count": 20,
   "id": "e5f78c91-8e04-425e-a0c7-72d3458412ab",
   "metadata": {},
   "outputs": [
    {
     "data": {
      "text/plain": [
       "['2019-02-04',\n",
       " '2019-02-05',\n",
       " '2019-02-06',\n",
       " '2019-02-07',\n",
       " '2019-02-08',\n",
       " '2019-02-09',\n",
       " '2019-02-10']"
      ]
     },
     "execution_count": 20,
     "metadata": {},
     "output_type": "execute_result"
    }
   ],
   "source": [
    "date_reg = r'(\\d+)/(\\d+)/(\\d+)'\n",
    "[re.sub(date_reg, r'20\\3-\\1-\\2',date) for date in dates]"
   ]
  },
  {
   "cell_type": "markdown",
   "id": "e9752da4-9ed3-4589-8051-62791db02354",
   "metadata": {},
   "source": [
    "Write a regex to extract the various parts of these logfile lines:\n",
    "\n",
    "GET /api/v1/sales?page=86 [16/Apr/2019:193452+0000] HTTP/1.1 {200} 510348 \"python-requests/2.21.0\" 97.105.19.58\n",
    "\n",
    "POST /users_accounts/file-upload [16/Apr/2019:193452+0000] HTTP/1.1 {201} 42 \"User-Agent: Mozilla/5.0 (X11; Fedora; Fedora; Linux x86_64) AppleWebKit/537.36 (KHTML, like Gecko) Chrome/73.0.3683.86 Safari/537.36\" 97.105.19.58\n",
    "\n",
    "GET /api/v1/items?page=3 [16/Apr/2019:193453+0000] HTTP/1.1 {429} 3561 \"python-requests/2.21.0\" 97.105.19.58"
   ]
  },
  {
   "cell_type": "code",
   "execution_count": 1,
   "id": "4eafa8ed-8c21-4900-888b-2018ef665fa8",
   "metadata": {},
   "outputs": [],
   "source": [
    "lines = \"\"\"\n",
    "GET /api/v1/sales?page=86 [16/Apr/2019:193452+0000] HTTP/1.1 {200} 510348 \"python-requests/2.21.0\" 97.105.19.58\n",
    "POST /users_accounts/file-upload [16/Apr/2019:193452+0000] HTTP/1.1 {201} 42 \"User-Agent: Mozilla/5.0 (X11; Fedora; Fedora; Linux x86_64) AppleWebKit/537.36 (KHTML, like Gecko) Chrome/73.0.3683.86 Safari/537.36\" 97.105.19.58\n",
    "GET /api/v1/items?page=3 [16/Apr/2019:193453+0000] HTTP/1.1 {429} 3561 \"python-requests/2.21.0\" 97.105.19.58\n",
    "\"\"\""
   ]
  },
  {
   "cell_type": "code",
   "execution_count": 2,
   "id": "c824cc8f-7f03-4901-8a0a-0869d056ed88",
   "metadata": {},
   "outputs": [],
   "source": [
    "regexp = r'''\n",
    "^(?P<request>GET|POST)\n",
    "\\s+\n",
    "(?P<path>[/\\w\\-\\?=]+)\n",
    "\\s+\n",
    "\\[(?P<timestamp>.+)\\]\n",
    "\\s+\n",
    "(?P<version>HTTP/\\d+\\.\\d+)\n",
    "\\s+\n",
    "\\{(?P<status_code>\\d+)\\}\n",
    "\\s+\n",
    "(?P<bytes_out>\\d+)\n",
    "\\s+\n",
    "\"(?P<user_agent>.+)\"\n",
    "\\s+\n",
    "(?P<ip>\\d+\\.\\d+\\.\\d+\\.\\d+)$\n",
    "'''"
   ]
  },
  {
   "cell_type": "code",
   "execution_count": 5,
   "id": "10e683aa-1886-4aa0-81b1-719106aebac1",
   "metadata": {},
   "outputs": [
    {
     "data": {
      "text/html": [
       "<div>\n",
       "<style scoped>\n",
       "    .dataframe tbody tr th:only-of-type {\n",
       "        vertical-align: middle;\n",
       "    }\n",
       "\n",
       "    .dataframe tbody tr th {\n",
       "        vertical-align: top;\n",
       "    }\n",
       "\n",
       "    .dataframe thead th {\n",
       "        text-align: right;\n",
       "    }\n",
       "</style>\n",
       "<table border=\"1\" class=\"dataframe\">\n",
       "  <thead>\n",
       "    <tr style=\"text-align: right;\">\n",
       "      <th></th>\n",
       "      <th>line</th>\n",
       "      <th>request</th>\n",
       "      <th>path</th>\n",
       "      <th>timestamp</th>\n",
       "      <th>version</th>\n",
       "      <th>status_code</th>\n",
       "      <th>bytes_out</th>\n",
       "      <th>user_agent</th>\n",
       "      <th>ip</th>\n",
       "    </tr>\n",
       "  </thead>\n",
       "  <tbody>\n",
       "    <tr>\n",
       "      <th>0</th>\n",
       "      <td>GET /api/v1/sales?page=86 [16/Apr/2019:193452+...</td>\n",
       "      <td>GET</td>\n",
       "      <td>/api/v1/sales?page=86</td>\n",
       "      <td>16/Apr/2019:193452+0000</td>\n",
       "      <td>HTTP/1.1</td>\n",
       "      <td>200</td>\n",
       "      <td>510348</td>\n",
       "      <td>python-requests/2.21.0</td>\n",
       "      <td>97.105.19.58</td>\n",
       "    </tr>\n",
       "    <tr>\n",
       "      <th>1</th>\n",
       "      <td>POST /users_accounts/file-upload [16/Apr/2019:...</td>\n",
       "      <td>POST</td>\n",
       "      <td>/users_accounts/file-upload</td>\n",
       "      <td>16/Apr/2019:193452+0000</td>\n",
       "      <td>HTTP/1.1</td>\n",
       "      <td>201</td>\n",
       "      <td>42</td>\n",
       "      <td>User-Agent: Mozilla/5.0 (X11; Fedora; Fedora; ...</td>\n",
       "      <td>97.105.19.58</td>\n",
       "    </tr>\n",
       "    <tr>\n",
       "      <th>2</th>\n",
       "      <td>GET /api/v1/items?page=3 [16/Apr/2019:193453+0...</td>\n",
       "      <td>GET</td>\n",
       "      <td>/api/v1/items?page=3</td>\n",
       "      <td>16/Apr/2019:193453+0000</td>\n",
       "      <td>HTTP/1.1</td>\n",
       "      <td>429</td>\n",
       "      <td>3561</td>\n",
       "      <td>python-requests/2.21.0</td>\n",
       "      <td>97.105.19.58</td>\n",
       "    </tr>\n",
       "  </tbody>\n",
       "</table>\n",
       "</div>"
      ],
      "text/plain": [
       "                                                line request  \\\n",
       "0  GET /api/v1/sales?page=86 [16/Apr/2019:193452+...     GET   \n",
       "1  POST /users_accounts/file-upload [16/Apr/2019:...    POST   \n",
       "2  GET /api/v1/items?page=3 [16/Apr/2019:193453+0...     GET   \n",
       "\n",
       "                          path                timestamp   version status_code  \\\n",
       "0        /api/v1/sales?page=86  16/Apr/2019:193452+0000  HTTP/1.1         200   \n",
       "1  /users_accounts/file-upload  16/Apr/2019:193452+0000  HTTP/1.1         201   \n",
       "2         /api/v1/items?page=3  16/Apr/2019:193453+0000  HTTP/1.1         429   \n",
       "\n",
       "  bytes_out                                         user_agent            ip  \n",
       "0    510348                             python-requests/2.21.0  97.105.19.58  \n",
       "1        42  User-Agent: Mozilla/5.0 (X11; Fedora; Fedora; ...  97.105.19.58  \n",
       "2      3561                             python-requests/2.21.0  97.105.19.58  "
      ]
     },
     "execution_count": 5,
     "metadata": {},
     "output_type": "execute_result"
    }
   ],
   "source": [
    "regex = re.compile(regexp, re.VERBOSE)\n",
    "\n",
    "df = pd.DataFrame()\n",
    "df['line'] = lines.strip().split('\\n')\n",
    "df = pd.concat([df, df.line.str.extract(regex)], axis=1)\n",
    "df"
   ]
  },
  {
   "cell_type": "code",
   "execution_count": null,
   "id": "96d9d2ef-7d5a-4280-a1cf-28ad58e9b95e",
   "metadata": {},
   "outputs": [],
   "source": []
  }
 ],
 "metadata": {
  "kernelspec": {
   "display_name": "Python 3 (ipykernel)",
   "language": "python",
   "name": "python3"
  },
  "language_info": {
   "codemirror_mode": {
    "name": "ipython",
    "version": 3
   },
   "file_extension": ".py",
   "mimetype": "text/x-python",
   "name": "python",
   "nbconvert_exporter": "python",
   "pygments_lexer": "ipython3",
   "version": "3.9.7"
  }
 },
 "nbformat": 4,
 "nbformat_minor": 5
}
