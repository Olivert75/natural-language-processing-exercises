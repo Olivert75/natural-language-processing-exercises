{
 "cells": [
  {
   "cell_type": "code",
   "execution_count": 1,
   "id": "a76c042f-1bae-46ce-ad46-910dad992f32",
   "metadata": {},
   "outputs": [],
   "source": [
    "import re\n",
    "import pandas as pd"
   ]
  },
  {
   "cell_type": "markdown",
   "id": "34ee7e4f-5716-406d-b268-87c1a2374bd7",
   "metadata": {},
   "source": [
    "Write a function named is_vowel. It should accept a string as input and use a regular expression to determine if the passed string is a vowel. While not explicity mentioned in the lesson, you can treat the result of re.search as a boolean value that indicates whether or not the regular expression matches the given string."
   ]
  },
  {
   "cell_type": "code",
   "execution_count": 4,
   "id": "aef3e452-425a-4341-a39f-d65b93924eff",
   "metadata": {},
   "outputs": [],
   "source": [
    "def is_vowel(subject):\n",
    "    '''\n",
    "    takes the first letter of a string and returns whether it is a vowel or not\n",
    "    '''\n",
    "    regexp = r'^[AEIOUaeiou]'\n",
    "    if re.findall(regexp,subject):\n",
    "        print('indeed a vowel')\n",
    "    else:\n",
    "        print('that\\'s a consonant')"
   ]
  },
  {
   "cell_type": "code",
   "execution_count": 5,
   "id": "6bb71267-9d76-4c34-a370-d621380be737",
   "metadata": {},
   "outputs": [
    {
     "name": "stdout",
     "output_type": "stream",
     "text": [
      "indeed a vowel\n"
     ]
    }
   ],
   "source": [
    "is_vowel('a')"
   ]
  },
  {
   "cell_type": "code",
   "execution_count": 8,
   "id": "7f7da7d9-a194-47ac-8830-e882d0912714",
   "metadata": {},
   "outputs": [
    {
     "name": "stdout",
     "output_type": "stream",
     "text": [
      "that's a consonant\n"
     ]
    }
   ],
   "source": [
    "is_vowel('b')"
   ]
  },
  {
   "cell_type": "code",
   "execution_count": null,
   "id": "352564c2-a9d7-4a13-9a94-75a4fb98e7d1",
   "metadata": {},
   "outputs": [],
   "source": []
  }
 ],
 "metadata": {
  "kernelspec": {
   "display_name": "Python 3 (ipykernel)",
   "language": "python",
   "name": "python3"
  },
  "language_info": {
   "codemirror_mode": {
    "name": "ipython",
    "version": 3
   },
   "file_extension": ".py",
   "mimetype": "text/x-python",
   "name": "python",
   "nbconvert_exporter": "python",
   "pygments_lexer": "ipython3",
   "version": "3.9.7"
  }
 },
 "nbformat": 4,
 "nbformat_minor": 5
}
